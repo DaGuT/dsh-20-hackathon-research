{
 "cells": [
  {
   "cell_type": "code",
   "execution_count": 5,
   "metadata": {
    "ExecuteTime": {
     "end_time": "2020-09-21T20:35:13.134020Z",
     "start_time": "2020-09-21T20:35:13.129343Z"
    }
   },
   "outputs": [
    {
     "data": {
      "text/plain": [
       "\"{'lol': 1.0, 'lol2': 1.0, 'lol3': 1.0}\""
      ]
     },
     "execution_count": 5,
     "metadata": {},
     "output_type": "execute_result"
    }
   ],
   "source": [
    "a = np.ones(3)\n",
    "b = [\"lol\", \"lol2\", \"lol3\"]\n",
    "\n",
    "str(dict(zip(b,a)))"
   ]
  },
  {
   "cell_type": "code",
   "execution_count": 2,
   "metadata": {
    "ExecuteTime": {
     "end_time": "2020-09-20T14:27:01.674712Z",
     "start_time": "2020-09-20T14:26:56.413860Z"
    }
   },
   "outputs": [],
   "source": [
    "import pandas as pd\n",
    "import numpy as np\n",
    "import cv2\n",
    "import torch\n",
    "import matplotlib.pyplot as plt\n",
    "import os\n",
    "from skimage.io import imread, imsave\n",
    "from skimage.color import rgb2gray, rgba2rgb, gray2rgb\n",
    "import pytorch_lightning as pl\n",
    "\n",
    "ds_root = '/home/alexander/work/hackathon/chest-14/images/'\n",
    "\n",
    "df_only_labels = pd.read_csv('/home/alexander/work/hackathon/chest-14/Data_Entry_2017.csv')\n",
    "\n",
    "from functools import reduce \n",
    "pathologies = sorted(list(reduce(lambda acc, str: set(str.split('|')).union(set(acc)),df_only_labels['Finding Labels'].unique(), set([]))))\n",
    "del pathologies[-5]\n",
    "\n",
    "from torch.utils.data import Dataset\n",
    "\n",
    "class MyDataset(Dataset):\n",
    "    def __init__(self, csv, path_to_root, pathologies, aug = None):\n",
    "        super(Dataset, self).__init__()\n",
    "        \n",
    "        self.path_to_root = path_to_root\n",
    "        self.csv = csv\n",
    "        self.pathologies = pathologies\n",
    "        self.aug = aug\n",
    "        \n",
    "        self.labels = []\n",
    "        for pathology in self.pathologies:\n",
    "            self.labels.append(self.csv['Finding Labels'].str.contains(pathology).values)\n",
    "            \n",
    "        self.labels = np.asarray(self.labels).T\n",
    "        self.labels = self.labels.astype(np.float32)\n",
    "        \n",
    "    def __getitem__(self, idx):\n",
    "        item = self.csv.iloc[idx]\n",
    "        \n",
    "        img = imread(os.path.join(self.path_to_root,item['Image Index']))\n",
    "        if img.ndim==2:\n",
    "            img = gray2rgb(img)\n",
    "        if img.shape[2]==4:\n",
    "            img = img[:,:,:3]\n",
    "        label = self.labels[idx]\n",
    "        \n",
    "        if self.aug:\n",
    "            img = self.aug(image=img)['image']\n",
    "            \n",
    "        sample = {\"image\": img, 'label': label}\n",
    "            \n",
    "        return sample\n",
    "    \n",
    "    def __len__(self):\n",
    "        return len(self.csv)\n",
    "    \n",
    "from albumentations.core.composition import *\n",
    "from albumentations.pytorch import ToTensor, ToTensorV2\n",
    "from albumentations.augmentations.transforms import *\n",
    "    \n",
    "tr = Compose([Normalize(mean=[0.485, 0.456, 0.406], std=[0.229, 0.224, 0.225]), Resize(224, 224), ToTensorV2()])\n",
    "\n",
    "ds = MyDataset(df_only_labels, ds_root, pathologies = pathologies, aug = tr)"
   ]
  },
  {
   "cell_type": "code",
   "execution_count": 15,
   "metadata": {
    "ExecuteTime": {
     "end_time": "2020-09-20T14:45:08.410086Z",
     "start_time": "2020-09-20T14:45:07.598325Z"
    }
   },
   "outputs": [],
   "source": [
    "import torchvision.models as models\n",
    "\n",
    "densenet = models.densenet121(pretrained=True)\n"
   ]
  },
  {
   "cell_type": "code",
   "execution_count": 16,
   "metadata": {
    "ExecuteTime": {
     "end_time": "2020-09-20T14:45:09.276218Z",
     "start_time": "2020-09-20T14:45:09.273138Z"
    }
   },
   "outputs": [],
   "source": [
    "densenet.classifier = torch.nn.Identity(1024)"
   ]
  },
  {
   "cell_type": "code",
   "execution_count": 18,
   "metadata": {
    "ExecuteTime": {
     "end_time": "2020-09-20T14:45:31.797941Z",
     "start_time": "2020-09-20T14:45:29.854698Z"
    }
   },
   "outputs": [],
   "source": [
    "a = densenet(ds[0]['image'])"
   ]
  },
  {
   "cell_type": "code",
   "execution_count": 23,
   "metadata": {
    "ExecuteTime": {
     "end_time": "2020-09-20T14:48:54.212673Z",
     "start_time": "2020-09-20T14:48:42.884741Z"
    }
   },
   "outputs": [
    {
     "data": {
      "text/plain": [
       "[{'features': tensor([3.5344e-04, 4.3502e-03, 3.1985e-03,  ..., 1.4926e+00, 1.0923e+00,\n",
       "          1.3415e+00], grad_fn=<SliceBackward>),\n",
       "  'labels': array([0., 1., 0., 0., 0., 0., 0., 0., 0., 0., 0., 0., 0., 0.],\n",
       "        dtype=float32)}]"
      ]
     },
     "execution_count": 23,
     "metadata": {},
     "output_type": "execute_result"
    }
   ],
   "source": [
    "processed = []\n",
    "\n",
    "for im in ds:\n",
    "    pred = densenet(im['image'].unsqueeze(0))\n",
    "    processed.append({\n",
    "            \"features\": pred[0,:],\n",
    "            \"labels\": im['label']\n",
    "        })\n",
    "    break\n",
    "    \n",
    "processed"
   ]
  }
 ],
 "metadata": {
  "kernelspec": {
   "display_name": "Python 3.8.2 64-bit ('pt': conda)",
   "language": "python",
   "name": "python38264bitptconda94839c0a89064c17a71e75e5bd24b059"
  },
  "language_info": {
   "codemirror_mode": {
    "name": "ipython",
    "version": 3
   },
   "file_extension": ".py",
   "mimetype": "text/x-python",
   "name": "python",
   "nbconvert_exporter": "python",
   "pygments_lexer": "ipython3",
   "version": "3.7.7"
  },
  "toc": {
   "base_numbering": 1,
   "nav_menu": {},
   "number_sections": true,
   "sideBar": true,
   "skip_h1_title": false,
   "title_cell": "Table of Contents",
   "title_sidebar": "Contents",
   "toc_cell": false,
   "toc_position": {},
   "toc_section_display": true,
   "toc_window_display": false
  },
  "varInspector": {
   "cols": {
    "lenName": 16,
    "lenType": 16,
    "lenVar": 40
   },
   "kernels_config": {
    "python": {
     "delete_cmd_postfix": "",
     "delete_cmd_prefix": "del ",
     "library": "var_list.py",
     "varRefreshCmd": "print(var_dic_list())"
    },
    "r": {
     "delete_cmd_postfix": ") ",
     "delete_cmd_prefix": "rm(",
     "library": "var_list.r",
     "varRefreshCmd": "cat(var_dic_list()) "
    }
   },
   "types_to_exclude": [
    "module",
    "function",
    "builtin_function_or_method",
    "instance",
    "_Feature"
   ],
   "window_display": false
  }
 },
 "nbformat": 4,
 "nbformat_minor": 4
}
