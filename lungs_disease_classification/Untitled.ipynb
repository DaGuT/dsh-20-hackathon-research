{
 "cells": [
  {
   "cell_type": "code",
   "execution_count": null,
   "metadata": {},
   "outputs": [],
   "source": [
    "from multiprocessing import  Pool\n",
    "import hashlib\n",
    "import pandas as pd\n",
    "import os\n",
    "from os.path import join\n",
    "\n",
    "def get_md5checksum(path):\n",
    "    md5_hash = hashlib.md5()\n",
    "    a_file = open(path, \"rb\")\n",
    "    content = a_file.read()\n",
    "    md5_hash.update(content)\n",
    "    digest = md5_hash.hexdigest()\n",
    "    return md5_hash.hexdigest()\n",
    "\n",
    "\n",
    "def get_hash(df):\n",
    "    df['hash'] = df[1].apply(lambda x: get_md5checksum(x))\n",
    "\n",
    "def parallelize_dataframe(df, func, n_cores=4):\n",
    "    df_split = np.array_split(df, n_cores)\n",
    "    pool = Pool(n_cores)\n",
    "    df = pd.concat(pool.map(func, df_split))\n",
    "    pool.close()\n",
    "    pool.join()\n",
    "    return df\n",
    "\n",
    "# df = parallelize_dataframe(df, get_hash, 10)\n",
    "\n",
    "df = pd.read_csv('Only_labels.csv')\n",
    "df = df.loc[:100]\n",
    "dirpath = '/cold_storage/Medical/DATASET_MED/Only_labels/Images/'\n",
    "\n",
    "%%time\n",
    "\n",
    "df['checksum'] = df.iloc[:,0].apply(lambda x: get_md5checksum(join(dirpath, x)))"
   ]
  }
 ],
 "metadata": {
  "kernelspec": {
   "display_name": "Python (myenv)",
   "language": "python",
   "name": "myenv"
  },
  "language_info": {
   "codemirror_mode": {
    "name": "ipython",
    "version": 3
   },
   "file_extension": ".py",
   "mimetype": "text/x-python",
   "name": "python",
   "nbconvert_exporter": "python",
   "pygments_lexer": "ipython3",
   "version": "3.6.8"
  }
 },
 "nbformat": 4,
 "nbformat_minor": 4
}
